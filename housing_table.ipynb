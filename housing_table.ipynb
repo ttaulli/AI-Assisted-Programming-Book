{
 "cells": [
  {
   "cell_type": "markdown",
   "id": "149a2d9a",
   "metadata": {},
   "source": [
    "# Housing Data Table\n",
    "This notebook imports the `housing.csv` dataset and displays it as a table for exploration."
   ]
  },
  {
   "cell_type": "code",
   "execution_count": null,
   "id": "1ad5287f",
   "metadata": {},
   "outputs": [],
   "source": [
    "import pandas as pd"
   ]
  },
  {
   "cell_type": "code",
   "execution_count": null,
   "id": "5be5d372",
   "metadata": {},
   "outputs": [],
   "source": [
    "# Load the housing.csv dataset\n",
    "housing_df = pd.read_csv('5-writing-code/housing.csv')"
   ]
  },
  {
   "cell_type": "code",
   "execution_count": null,
   "id": "d4e56536",
   "metadata": {},
   "outputs": [],
   "source": [
    "# Display the dataset as a table\n",
    "housing_df"
   ]
  }
 ],
 "metadata": {
  "language_info": {
   "name": "python"
  }
 },
 "nbformat": 4,
 "nbformat_minor": 5
}
